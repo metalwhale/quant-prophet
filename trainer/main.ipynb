{
 "cells": [
  {
   "cell_type": "code",
   "execution_count": null,
   "metadata": {},
   "outputs": [],
   "source": [
    "%load_ext autoreload\n",
    "%autoreload 2"
   ]
  },
  {
   "cell_type": "code",
   "execution_count": null,
   "metadata": {},
   "outputs": [],
   "source": [
    "import datetime\n",
    "import logging\n",
    "import random\n",
    "from typing import Any, Tuple\n",
    "\n",
    "from stable_baselines3.common.base_class import BaseAlgorithm\n",
    "\n",
    "from trainer.asset import ComposedSinusoid\n",
    "from trainer.trading_platform import TradingPlatform\n",
    "from trainer.util import find_min_tradable_start_date\n",
    "\n",
    "\n",
    "EPSILON = 1e-14\n",
    "MIN_INITIAL_TIME = datetime.datetime.strptime(\"2015/01/01 08:00:00\", \"%Y/%m/%d %H:%M:%S\")\n",
    "LAST_TRAINING_DATE = datetime.datetime.strptime(\"2019/12/31\", \"%Y/%m/%d\").date()\n",
    "HISTORICAL_DAYS_NUM = 90\n",
    "\n",
    "logging.getLogger().setLevel(logging.INFO)\n",
    "\n",
    "\n",
    "asset_pool = [\n",
    "    ComposedSinusoid(\n",
    "        MIN_INITIAL_TIME +\n",
    "        datetime.timedelta(days=random.randint(\n",
    "            0,\n",
    "            (LAST_TRAINING_DATE - find_min_tradable_start_date(MIN_INITIAL_TIME)).days - HISTORICAL_DAYS_NUM,\n",
    "        )),\n",
    "        random.randint(4, 8),\n",
    "        # Wavelength: λ = (2*π)/α\n",
    "        # We will retrieve close prices after each 1 unit of time.\n",
    "        # That means, according to FFT theory, to make it easy to reconstruct the original function from sampled data,\n",
    "        # we can select α small enough so that the wavelength is greater than 2 (units), or in other words: α < π.\n",
    "        alpha_range=(0.1, 0.2),\n",
    "        beta_range=(1, 2),\n",
    "        gamma1_range=(1, 2),\n",
    "        # Should be greater than 1 (since the minimum of the sine function is -1), ensuring the price is never negative.\n",
    "        gamma2_range=(1, 5),\n",
    "    ) for _ in range(20)\n",
    "]\n",
    "env = TradingPlatform(\n",
    "    asset_pool, HISTORICAL_DAYS_NUM, LAST_TRAINING_DATE,\n",
    "    0.01, 0.002, 0.2,\n",
    "    min_positions_num=5, min_steps_num=60,\n",
    ")"
   ]
  },
  {
   "cell_type": "code",
   "execution_count": null,
   "metadata": {},
   "outputs": [],
   "source": [
    "from stable_baselines3 import DQN\n",
    "\n",
    "\n",
    "model = DQN(\"MultiInputPolicy\", env, verbose=1)\n",
    "model.learn(total_timesteps=100000, log_interval=100)"
   ]
  },
  {
   "cell_type": "code",
   "execution_count": null,
   "metadata": {},
   "outputs": [],
   "source": [
    "import matplotlib.pyplot as plt\n",
    "\n",
    "\n",
    "def trade(env: TradingPlatform, model: BaseAlgorithm, step: int) -> Tuple[Any, Tuple[float, float]]:\n",
    "    env.render_mode = \"rgb_array\"\n",
    "    obs, _ = env.reset()\n",
    "    # Run one episode\n",
    "    for _ in range(step):\n",
    "        action, _ = model.predict(obs, deterministic=True)\n",
    "        obs, _, _, _, _ = env.step(action)\n",
    "        logging.debug(\"%s %f %f\", env._prices[-1].time, env._prices[-1].actual_price, env._balance)\n",
    "    rendered = env.render()\n",
    "    # Calculate the earning\n",
    "    earning, price_change = env.calc_earning(env._positions, env._prices[-1].time)\n",
    "    logging.debug(\"%s %f\", env._prices[-1].time, env._prices[-1].actual_price)\n",
    "    return rendered, (earning, price_change)\n",
    "\n",
    "\n",
    "plt.axis(\"off\")\n",
    "plt.tight_layout()\n",
    "\n",
    "rendered, (earning, price_change) = trade(env, model, 600)\n",
    "print(earning, price_change)\n",
    "plt.imshow(rendered)"
   ]
  }
 ],
 "metadata": {
  "kernelspec": {
   "display_name": "Python 3",
   "language": "python",
   "name": "python3"
  },
  "language_info": {
   "codemirror_mode": {
    "name": "ipython",
    "version": 3
   },
   "file_extension": ".py",
   "mimetype": "text/x-python",
   "name": "python",
   "nbconvert_exporter": "python",
   "pygments_lexer": "ipython3",
   "version": "3.12.3"
  }
 },
 "nbformat": 4,
 "nbformat_minor": 2
}
