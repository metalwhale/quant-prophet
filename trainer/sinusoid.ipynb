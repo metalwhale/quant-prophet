{
 "cells": [
  {
   "cell_type": "code",
   "execution_count": null,
   "metadata": {},
   "outputs": [],
   "source": [
    "%load_ext autoreload\n",
    "%autoreload 2"
   ]
  },
  {
   "cell_type": "code",
   "execution_count": null,
   "metadata": {},
   "outputs": [],
   "source": [
    "import datetime\n",
    "\n",
    "import numpy as np\n",
    "\n",
    "from trainer.asset.sinusoid import OPENING_HOUR, ComposedSinusoid\n",
    "from trainer.env.asset_pool import AssetPool\n",
    "\n",
    "\n",
    "HISTORICAL_DAYS_NUM = 20\n",
    "LAST_TRAINING_DATE = datetime.datetime.strptime(\"2019-12-31\", \"%Y-%m-%d\").date()\n",
    "PUBLISHED_TIME = datetime.datetime.combine(LAST_TRAINING_DATE + datetime.timedelta(\n",
    "    days=(\n",
    "        - 1  # Latest date for reset, i.e., the day before the last training date\n",
    "        - (HISTORICAL_DAYS_NUM - 1)\n",
    "        - sum(ComposedSinusoid.calc_buffer_days_num())\n",
    "        - np.random.randint(2500)\n",
    "    ),\n",
    "), datetime.time(OPENING_HOUR))\n",
    "\n",
    "\n",
    "def generate_asset_pool(assets_num: int) -> AssetPool:\n",
    "    assets = [\n",
    "        ComposedSinusoid(\n",
    "            str(i),\n",
    "            PUBLISHED_TIME,\n",
    "            np.random.randint(4, 8),\n",
    "            # - For alpha range:\n",
    "            #   Wavelength: λ = (2*π)/α\n",
    "            #   We will retrieve close prices after each 1 unit of time.\n",
    "            #   That means, according to FFT theory, to make it easy to reconstruct the original function from sampled data,\n",
    "            #   we can select α small enough so that the wavelength is greater than 2 (units), or in other words: α < π.\n",
    "            # - For gamma2 range:\n",
    "            #   Should be greater than 1 (since the minimum of the sine function is -1), ensuring the price is never negative.\n",
    "            (0.1, 0.2), (1, 2),\n",
    "            (1, 2), (10, 20),\n",
    "            (0.018, 0.022),\n",
    "        ) for i in range(assets_num)\n",
    "    ]\n",
    "    return AssetPool(assets)\n",
    "\n",
    "\n",
    "train_asset_pool = generate_asset_pool(10)\n",
    "train_asset_pool.apply_date_range((None, LAST_TRAINING_DATE), HISTORICAL_DAYS_NUM)\n",
    "\n",
    "eval_asset_pool = generate_asset_pool(1)\n",
    "eval_asset_pool.apply_date_range((LAST_TRAINING_DATE, None), HISTORICAL_DAYS_NUM)"
   ]
  },
  {
   "cell_type": "code",
   "execution_count": null,
   "metadata": {},
   "outputs": [],
   "source": [
    "import matplotlib.pyplot as plt\n",
    "\n",
    "from stable_baselines3 import PPO\n",
    "\n",
    "from trainer.env.trading_platform import TradingPlatform\n",
    "from trainer.env.evaluation import show_image\n",
    "\n",
    "\n",
    "train_env = TradingPlatform(train_asset_pool, HISTORICAL_DAYS_NUM)\n",
    "train_env.set_mode(True)\n",
    "model = PPO(\"MultiInputPolicy\", train_env, verbose=1)\n",
    "model.learn(total_timesteps=20000, log_interval=100)\n",
    "\n",
    "eval_env = TradingPlatform(eval_asset_pool, HISTORICAL_DAYS_NUM)\n",
    "eval_env.set_mode(False)\n",
    "rendered, (_, earning, price_change, _), _ = eval_env.trade(model=model, stopping_when_done=False)\n",
    "plt.close(\"all\")\n",
    "print(earning, price_change)\n",
    "show_image(rendered)"
   ]
  }
 ],
 "metadata": {
  "kernelspec": {
   "display_name": "Python 3",
   "language": "python",
   "name": "python3"
  },
  "language_info": {
   "codemirror_mode": {
    "name": "ipython",
    "version": 3
   },
   "file_extension": ".py",
   "mimetype": "text/x-python",
   "name": "python",
   "nbconvert_exporter": "python",
   "pygments_lexer": "ipython3",
   "version": "3.12.3"
  }
 },
 "nbformat": 4,
 "nbformat_minor": 2
}
