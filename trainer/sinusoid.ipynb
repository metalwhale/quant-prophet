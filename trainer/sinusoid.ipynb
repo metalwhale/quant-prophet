{
 "cells": [
  {
   "cell_type": "code",
   "execution_count": null,
   "metadata": {},
   "outputs": [],
   "source": [
    "%load_ext autoreload\n",
    "%autoreload 2"
   ]
  },
  {
   "cell_type": "code",
   "execution_count": null,
   "metadata": {},
   "outputs": [],
   "source": [
    "import datetime\n",
    "import logging\n",
    "\n",
    "import numpy as np\n",
    "\n",
    "from trainer.asset.sinusoid import ComposedSinusoid\n",
    "from trainer.env.asset_pool import AssetPool\n",
    "\n",
    "\n",
    "PUBLISHED_TIME = datetime.datetime.strptime(\"2015-10-01 08:00:00\", \"%Y-%m-%d %H:%M:%S\")\n",
    "\n",
    "logging.getLogger().setLevel(logging.INFO)\n",
    "\n",
    "\n",
    "def generate_asset_pool(asset_num: int) -> AssetPool:\n",
    "    assets = [\n",
    "        ComposedSinusoid(\n",
    "            str(i),\n",
    "            PUBLISHED_TIME,\n",
    "            np.random.randint(4, 8),\n",
    "            # Wavelength: λ = (2*π)/α\n",
    "            # We will retrieve close prices after each 1 unit of time.\n",
    "            # That means, according to FFT theory, to make it easy to reconstruct the original function from sampled data,\n",
    "            # we can select α small enough so that the wavelength is greater than 2 (units), or in other words: α < π.\n",
    "            alpha_range=(0.1, 0.2),\n",
    "            beta_range=(1, 2),\n",
    "            gamma1_range=(1, 2),\n",
    "            # Should be greater than 1 (since the minimum of the sine function is -1), ensuring the price is never negative.\n",
    "            gamma2_range=(1, 5),\n",
    "        ) for i in range(asset_num)\n",
    "    ]\n",
    "    return AssetPool(assets)"
   ]
  },
  {
   "cell_type": "code",
   "execution_count": null,
   "metadata": {},
   "outputs": [],
   "source": [
    "from trainer.env.trading_platform import TradingPlatform\n",
    "from trainer.env.evaluation import trade\n",
    "\n",
    "\n",
    "EPSILON = 1e-14\n",
    "LAST_TRAINING_DATE = datetime.datetime.strptime(\"2019-12-31\", \"%Y-%m-%d\").date()\n",
    "HISTORICAL_DAYS_NUM = 90\n",
    "\n",
    "env = TradingPlatform(\n",
    "    generate_asset_pool(100), HISTORICAL_DAYS_NUM,\n",
    "    position_opening_fee=0.01,\n",
    "    max_balance_loss=0.2, max_positions_num=5, max_steps_num=60,\n",
    ")\n",
    "env.is_training_mode = True\n",
    "env.apply_date_range()\n",
    "\n",
    "for i in range(1000):\n",
    "    if i % 100 == 0:\n",
    "        print(i)\n",
    "    logging.debug(\"==========\")\n",
    "    _, (platform_balance, self_calculated_balance, _) = trade(env, max_step=np.random.randint(10, 120), render=False)\n",
    "    if abs(platform_balance - self_calculated_balance) >= EPSILON:\n",
    "        print(platform_balance, self_calculated_balance, platform_balance - self_calculated_balance)\n",
    "        break"
   ]
  },
  {
   "cell_type": "code",
   "execution_count": null,
   "metadata": {},
   "outputs": [],
   "source": [
    "from stable_baselines3 import DQN\n",
    "\n",
    "\n",
    "env = TradingPlatform(\n",
    "    generate_asset_pool(100), HISTORICAL_DAYS_NUM,\n",
    "    position_opening_fee=0.01,\n",
    "    max_balance_loss=0.2, max_balance_gain=0.5, max_positions_num=10, max_steps_num=120,\n",
    ")\n",
    "env.is_training_mode = True\n",
    "env.apply_date_range(max_date=LAST_TRAINING_DATE)\n",
    "model = DQN(\"MultiInputPolicy\", env, verbose=1)\n",
    "model.learn(total_timesteps=20000, log_interval=100)"
   ]
  },
  {
   "cell_type": "code",
   "execution_count": null,
   "metadata": {},
   "outputs": [],
   "source": [
    "from trainer.env.evaluation import show_image\n",
    "\n",
    "\n",
    "env = TradingPlatform(generate_asset_pool(1), HISTORICAL_DAYS_NUM, position_opening_fee=0.01)\n",
    "env.is_training_mode = False\n",
    "env.apply_date_range(min_date=LAST_TRAINING_DATE)\n",
    "rendered, (_, earning, actual_price_change) = trade(env, model=model, stop_when_done=False)\n",
    "print(earning, actual_price_change)\n",
    "show_image(rendered)"
   ]
  }
 ],
 "metadata": {
  "kernelspec": {
   "display_name": "Python 3",
   "language": "python",
   "name": "python3"
  },
  "language_info": {
   "codemirror_mode": {
    "name": "ipython",
    "version": 3
   },
   "file_extension": ".py",
   "mimetype": "text/x-python",
   "name": "python",
   "nbconvert_exporter": "python",
   "pygments_lexer": "ipython3",
   "version": "3.12.3"
  }
 },
 "nbformat": 4,
 "nbformat_minor": 2
}
