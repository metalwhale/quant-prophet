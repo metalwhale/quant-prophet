{
 "cells": [
  {
   "cell_type": "code",
   "execution_count": null,
   "metadata": {},
   "outputs": [],
   "source": [
    "%load_ext autoreload\n",
    "%autoreload 2"
   ]
  },
  {
   "cell_type": "code",
   "execution_count": null,
   "metadata": {},
   "outputs": [],
   "source": [
    "import datetime\n",
    "from pathlib import Path\n",
    "from typing import Any, List, Optional, Tuple\n",
    "\n",
    "import matplotlib.pyplot as plt\n",
    "import numpy as np\n",
    "from stable_baselines3.common.base_class import BaseAlgorithm\n",
    "\n",
    "from trainer.asset.stock import Stock\n",
    "from trainer.env.asset_pool import AssetPool\n",
    "from trainer.env.trading_platform import PositionType, TradingPlatform, calc_earning\n",
    "\n",
    "\n",
    "LAST_TRAINING_DATE = datetime.datetime.strptime(\"2019-12-31\", \"%Y-%m-%d\").date()\n",
    "HISTORICAL_DAYS_NUM = 90\n",
    "MAX_DAYS_NUM = 360 * 12\n",
    "\n",
    "\n",
    "def generate_asset_pool(symbols: List[str]) -> AssetPool:\n",
    "    assets = [Stock(symbol, Path(\"../data/stock/us\"), max_days_num=MAX_DAYS_NUM) for symbol in symbols]\n",
    "    return AssetPool(assets)\n",
    "\n",
    "\n",
    "def trade(\n",
    "    env: TradingPlatform,\n",
    "    model: Optional[BaseAlgorithm] = None, max_step: Optional[int] = None, stop_at_termination: bool = True,\n",
    ") -> Tuple[Any, Tuple[float, ...]]:\n",
    "    env.render_mode = \"rgb_array\"\n",
    "    obs, _ = env.reset()\n",
    "    # Run one episode\n",
    "    step = 0\n",
    "    while max_step is None or step < max_step:\n",
    "        action = None\n",
    "        if model is not None:\n",
    "            action, _ = model.predict(obs, deterministic=True)\n",
    "        else:\n",
    "            action = int(np.random.choice([PositionType.LONG, PositionType.SHORT]))\n",
    "        obs, _, terminated, truncated, _ = env.step(action)\n",
    "        if (stop_at_termination and terminated) or truncated:\n",
    "            break\n",
    "        step += 1\n",
    "    rendered = env.render()\n",
    "    # Calculate the balance\n",
    "    self_calculated_balance = env._initial_balance\n",
    "    earning, actual_price_change = calc_earning(\n",
    "        env._positions, env._prices[-1],\n",
    "        position_opening_fee=env._position_opening_fee,\n",
    "    )\n",
    "    self_calculated_balance += earning\n",
    "    # Platform balance and self-calculated balance should be equal if `stop_at_termination` is true\n",
    "    return rendered, (self_calculated_balance, actual_price_change)\n",
    "\n",
    "\n",
    "def show_image(image: Any):\n",
    "    figure = plt.figure(figsize=(10, 6), dpi=200)\n",
    "    axes = figure.add_subplot(111)\n",
    "    axes.imshow(image)\n",
    "    plt.axis(\"off\")\n",
    "    plt.tight_layout()\n",
    "    plt.show()"
   ]
  },
  {
   "cell_type": "code",
   "execution_count": null,
   "metadata": {},
   "outputs": [],
   "source": [
    "from stable_baselines3 import DQN\n",
    "\n",
    "\n",
    "env = TradingPlatform(\n",
    "    generate_asset_pool([\"AAPL\"]), HISTORICAL_DAYS_NUM,\n",
    "    max_balance_loss=0.2, min_positions_num=20,\n",
    ")\n",
    "model = DQN(\n",
    "    \"MultiInputPolicy\", env,\n",
    "    exploration_fraction=0.2, exploration_initial_eps=0.4, exploration_final_eps=0.1,\n",
    "    verbose=1,\n",
    ")"
   ]
  },
  {
   "cell_type": "code",
   "execution_count": null,
   "metadata": {},
   "outputs": [],
   "source": [
    "env.is_training_mode = True\n",
    "env.apply_date_range(max_date=LAST_TRAINING_DATE)\n",
    "model.learn(total_timesteps=2000000, log_interval=1000)"
   ]
  },
  {
   "cell_type": "code",
   "execution_count": null,
   "metadata": {},
   "outputs": [],
   "source": [
    "env.is_training_mode = False\n",
    "env.apply_date_range(min_date=LAST_TRAINING_DATE)\n",
    "rendered, (earning, actual_price_change) = trade(env, model=model, stop_at_termination=False)\n",
    "print(earning, actual_price_change)\n",
    "show_image(rendered)"
   ]
  }
 ],
 "metadata": {
  "kernelspec": {
   "display_name": "Python 3",
   "language": "python",
   "name": "python3"
  },
  "language_info": {
   "codemirror_mode": {
    "name": "ipython",
    "version": 3
   },
   "file_extension": ".py",
   "mimetype": "text/x-python",
   "name": "python",
   "nbconvert_exporter": "python",
   "pygments_lexer": "ipython3",
   "version": "3.12.3"
  }
 },
 "nbformat": 4,
 "nbformat_minor": 2
}
