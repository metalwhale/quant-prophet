{
 "cells": [
  {
   "cell_type": "code",
   "execution_count": null,
   "metadata": {},
   "outputs": [],
   "source": [
    "%load_ext autoreload\n",
    "%autoreload 2"
   ]
  },
  {
   "cell_type": "code",
   "execution_count": null,
   "metadata": {},
   "outputs": [],
   "source": [
    "from pathlib import Path\n",
    "from typing import List\n",
    "\n",
    "from trainer.asset.stock import Stock\n",
    "from trainer.env.asset_pool import AssetPool\n",
    "\n",
    "\n",
    "YEARLY_TRADABLE_DAYS_NUM = 250  # Typically there are about 250 tradable days in one year\n",
    "MAX_DAYS_NUM = YEARLY_TRADABLE_DAYS_NUM * 20\n",
    "\n",
    "\n",
    "def generate_asset_pool(symbols: List[str]) -> AssetPool:\n",
    "    assets = [Stock(symbol, Path(\"../data/input/stock/us\"), max_days_num=MAX_DAYS_NUM) for symbol in symbols]\n",
    "    return AssetPool(assets, polarity_temperature=2.0)"
   ]
  },
  {
   "cell_type": "code",
   "execution_count": null,
   "metadata": {},
   "outputs": [],
   "source": [
    "import datetime\n",
    "\n",
    "from stable_baselines3 import DQN\n",
    "\n",
    "from trainer.env.trading_platform import TradingPlatform\n",
    "\n",
    "\n",
    "LAST_TRAINING_DATE = datetime.datetime.strptime(\"2019-12-31\", \"%Y-%m-%d\").date()\n",
    "LAST_VALIDATION_DATE = datetime.datetime.strptime(\"2022-12-31\", \"%Y-%m-%d\").date()\n",
    "HISTORICAL_DAYS_NUM = 90\n",
    "POSITION_OPENING_FEE = 0.01\n",
    "\n",
    "# Training environment\n",
    "train_env = TradingPlatform(\n",
    "    generate_asset_pool([\"AAPL\"]), HISTORICAL_DAYS_NUM,\n",
    "    position_opening_fee=POSITION_OPENING_FEE,\n",
    "    max_balance_loss=0.5, max_balance_gain=0.5, max_positions_num=50, max_steps_num=YEARLY_TRADABLE_DAYS_NUM,\n",
    ")\n",
    "train_env.is_training_mode = True\n",
    "train_env.apply_date_range(max_date=LAST_TRAINING_DATE)\n",
    "# Validation environment\n",
    "val_env = TradingPlatform(\n",
    "    generate_asset_pool([\"AAPL\"]), HISTORICAL_DAYS_NUM,\n",
    "    position_opening_fee=POSITION_OPENING_FEE,\n",
    ")\n",
    "val_env.is_training_mode = False\n",
    "val_env.apply_date_range(min_date=LAST_TRAINING_DATE, max_date=LAST_VALIDATION_DATE, exclude_historical=False)\n",
    "# Test environment\n",
    "test_env = TradingPlatform(\n",
    "    generate_asset_pool([\"AAPL\"]), HISTORICAL_DAYS_NUM,\n",
    "    position_opening_fee=POSITION_OPENING_FEE,\n",
    ")\n",
    "test_env.is_training_mode = False\n",
    "# test_env.apply_date_range(min_date=LAST_VALIDATION_DATE, exclude_historical=False)\n",
    "test_env.apply_date_range(max_date=LAST_TRAINING_DATE)\n",
    "# Model\n",
    "model = DQN(\n",
    "    \"MultiInputPolicy\", train_env,\n",
    "    verbose=1,\n",
    ")"
   ]
  },
  {
   "cell_type": "code",
   "execution_count": null,
   "metadata": {},
   "outputs": [],
   "source": [
    "from trainer.env.evaluation import FullEvalCallback\n",
    "\n",
    "\n",
    "now = datetime.datetime.now().strftime(\"%Y-%m-%d_%H-%M-%S\")\n",
    "model.learn(\n",
    "    total_timesteps=2000000,\n",
    "    callback=FullEvalCallback(Path(f\"../data/output/{now}\"), {\"val\": val_env, \"test\": test_env}, 100, render=False),\n",
    "    log_interval=1000,\n",
    ")"
   ]
  }
 ],
 "metadata": {
  "kernelspec": {
   "display_name": "Python 3",
   "language": "python",
   "name": "python3"
  },
  "language_info": {
   "codemirror_mode": {
    "name": "ipython",
    "version": 3
   },
   "file_extension": ".py",
   "mimetype": "text/x-python",
   "name": "python",
   "nbconvert_exporter": "python",
   "pygments_lexer": "ipython3",
   "version": "3.12.3"
  }
 },
 "nbformat": 4,
 "nbformat_minor": 2
}
