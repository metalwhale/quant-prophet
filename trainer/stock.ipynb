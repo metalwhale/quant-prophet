{
 "cells": [
  {
   "cell_type": "code",
   "execution_count": null,
   "metadata": {},
   "outputs": [],
   "source": [
    "%load_ext autoreload\n",
    "%autoreload 2"
   ]
  },
  {
   "cell_type": "code",
   "execution_count": null,
   "metadata": {},
   "outputs": [],
   "source": [
    "from pathlib import Path\n",
    "from typing import List\n",
    "\n",
    "from trainer.asset.stock import Stock\n",
    "from trainer.env.asset_pool import AssetPool\n",
    "\n",
    "\n",
    "MONTHLY_TRADABLE_DAYS_NUM = 20\n",
    "YEARLY_TRADABLE_DAYS_NUM = 250\n",
    "MAX_DAYS_NUM = None  # YEARLY_TRADABLE_DAYS_NUM * 20\n",
    "\n",
    "\n",
    "def generate_asset_pool(symbols: List[str]) -> AssetPool:\n",
    "    assets = [Stock(symbol, Path(\"../data/input/stock/us\"), max_days_num=MAX_DAYS_NUM) for symbol in symbols]\n",
    "    return AssetPool(assets, polarity_temperature=5.0)"
   ]
  },
  {
   "cell_type": "code",
   "execution_count": null,
   "metadata": {},
   "outputs": [],
   "source": [
    "import datetime\n",
    "\n",
    "from stable_baselines3 import DQN\n",
    "\n",
    "from trainer.env.trading_platform import TradingPlatform\n",
    "\n",
    "\n",
    "LAST_TRAINING_DATE = datetime.datetime.strptime(\"2019-12-31\", \"%Y-%m-%d\").date()\n",
    "LAST_VALIDATION_DATE = datetime.datetime.strptime(\"2022-12-31\", \"%Y-%m-%d\").date()\n",
    "HISTORICAL_DAYS_NUM = MONTHLY_TRADABLE_DAYS_NUM * 6\n",
    "POSITION_OPENING_FEE = 0.01\n",
    "SYMBOLS = [\"AAPL\"]\n",
    "\n",
    "# Training environment\n",
    "train_env = TradingPlatform(\n",
    "    generate_asset_pool(SYMBOLS), HISTORICAL_DAYS_NUM,\n",
    "    position_opening_fee=POSITION_OPENING_FEE,\n",
    "    max_balance_loss=1.0, max_balance_gain=0.5, max_positions_num=50, max_steps_num=YEARLY_TRADABLE_DAYS_NUM,\n",
    ")\n",
    "train_env.is_training = True\n",
    "train_env.apply_date_range(max_date=LAST_TRAINING_DATE)\n",
    "rep_train_env = TradingPlatform(\n",
    "    generate_asset_pool(SYMBOLS), HISTORICAL_DAYS_NUM,\n",
    "    position_opening_fee=POSITION_OPENING_FEE,\n",
    ")\n",
    "rep_train_env.is_training = False\n",
    "rep_train_env.apply_date_range(max_date=LAST_TRAINING_DATE)\n",
    "# Validation environment\n",
    "val_env = TradingPlatform(\n",
    "    generate_asset_pool(SYMBOLS), HISTORICAL_DAYS_NUM,\n",
    "    position_opening_fee=POSITION_OPENING_FEE,\n",
    ")\n",
    "val_env.is_training = False\n",
    "val_env.apply_date_range(min_date=LAST_TRAINING_DATE, max_date=LAST_VALIDATION_DATE, excluding_historical=False)\n",
    "# Test environment\n",
    "test_env = TradingPlatform(\n",
    "    generate_asset_pool(SYMBOLS), HISTORICAL_DAYS_NUM,\n",
    "    position_opening_fee=POSITION_OPENING_FEE,\n",
    ")\n",
    "test_env.is_training = False\n",
    "test_env.apply_date_range(min_date=LAST_VALIDATION_DATE, excluding_historical=False)\n",
    "# Model\n",
    "model = DQN(\n",
    "    \"MultiInputPolicy\", train_env,\n",
    "    gamma=0.95, policy_kwargs={\"net_arch\": [64, 64, 64]},\n",
    "    verbose=1,\n",
    ")"
   ]
  },
  {
   "cell_type": "code",
   "execution_count": null,
   "metadata": {},
   "outputs": [],
   "source": [
    "from trainer.env.evaluation import FullEvalCallback\n",
    "\n",
    "\n",
    "now = datetime.datetime.now().strftime(\"%Y-%m-%d_%H-%M-%S\")\n",
    "model.learn(\n",
    "    total_timesteps=2000000,\n",
    "    callback=FullEvalCallback(\n",
    "        Path(f\"../data/output/{now}\"),\n",
    "        {\"train\": rep_train_env, \"val\": val_env, \"test\": test_env},\n",
    "        100,\n",
    "        showing_image=False,\n",
    "    ),\n",
    "    log_interval=1000,\n",
    ")"
   ]
  }
 ],
 "metadata": {
  "kernelspec": {
   "display_name": "Python 3",
   "language": "python",
   "name": "python3"
  },
  "language_info": {
   "codemirror_mode": {
    "name": "ipython",
    "version": 3
   },
   "file_extension": ".py",
   "mimetype": "text/x-python",
   "name": "python",
   "nbconvert_exporter": "python",
   "pygments_lexer": "ipython3",
   "version": "3.12.3"
  }
 },
 "nbformat": 4,
 "nbformat_minor": 2
}
