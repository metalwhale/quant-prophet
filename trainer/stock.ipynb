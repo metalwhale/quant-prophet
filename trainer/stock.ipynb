{
 "cells": [
  {
   "cell_type": "code",
   "execution_count": null,
   "metadata": {},
   "outputs": [],
   "source": [
    "%load_ext autoreload\n",
    "%autoreload 2"
   ]
  },
  {
   "cell_type": "code",
   "execution_count": null,
   "metadata": {},
   "outputs": [],
   "source": [
    "import datetime\n",
    "import random\n",
    "from pathlib import Path\n",
    "from typing import Any, Dict, List, Optional, Tuple\n",
    "\n",
    "import matplotlib.pyplot as plt\n",
    "from stable_baselines3.common.base_class import BaseAlgorithm\n",
    "\n",
    "from trainer.asset.base import DailyAsset\n",
    "from trainer.asset.stock import Stock\n",
    "from trainer.trading_platform import PositionType, TradingPlatform, calc_earning\n",
    "\n",
    "\n",
    "LAST_TRAINING_DATE = datetime.datetime.strptime(\"2019-12-31\", \"%Y-%m-%d\").date()\n",
    "HISTORICAL_DAYS_NUM = 90\n",
    "\n",
    "\n",
    "def generate_asset_pool(symbols: List[str]) -> Dict[str, DailyAsset]:\n",
    "    return {\n",
    "        symbol: Stock(Path(\"../data/stock/us\"), symbol) for symbol in symbols\n",
    "    }\n",
    "\n",
    "\n",
    "def trade(\n",
    "    env: TradingPlatform,\n",
    "    model: Optional[BaseAlgorithm] = None, max_step: Optional[int] = None, stop_at_termination: bool = True,\n",
    ") -> Tuple[Any, Tuple[float, ...]]:\n",
    "    env.render_mode = \"rgb_array\"\n",
    "    obs, _ = env.reset()\n",
    "    # Run one episode\n",
    "    step = 0\n",
    "    while max_step is None or step < max_step:\n",
    "        action = None\n",
    "        if model is not None:\n",
    "            action, _ = model.predict(obs, deterministic=True)\n",
    "        else:\n",
    "            action = int(random.choice([PositionType.LONG, PositionType.SHORT]))\n",
    "        obs, _, terminated, truncated, _ = env.step(action)\n",
    "        if (stop_at_termination and terminated) or truncated:\n",
    "            break\n",
    "        step += 1\n",
    "    rendered = env.render()\n",
    "    # Calculate the balance\n",
    "    self_calculated_balance = env._initial_balance\n",
    "    earning, actual_price_change = calc_earning(\n",
    "        env._positions, env._prices[-1],\n",
    "        position_opening_fee=env._position_opening_fee,\n",
    "    )\n",
    "    self_calculated_balance += earning\n",
    "    # Platform balance and self-calculated balance should be equal if `stop_at_termination` is true\n",
    "    return rendered, (self_calculated_balance, actual_price_change)\n",
    "\n",
    "\n",
    "def show_image(image: Any):\n",
    "    figure = plt.figure(figsize=(10, 6), dpi=200)\n",
    "    axes = figure.add_subplot(111)\n",
    "    axes.imshow(image)\n",
    "    plt.axis(\"off\")\n",
    "    plt.tight_layout()\n",
    "    plt.show()"
   ]
  },
  {
   "cell_type": "code",
   "execution_count": null,
   "metadata": {},
   "outputs": [],
   "source": [
    "from stable_baselines3 import DQN\n",
    "\n",
    "\n",
    "env = TradingPlatform(\n",
    "    generate_asset_pool([\"AAPL\"]), HISTORICAL_DAYS_NUM, LAST_TRAINING_DATE,\n",
    "    position_opening_fee=0.01,\n",
    "    max_balance_loss=0.2, min_positions_num=20, min_steps_num=180,\n",
    ")\n",
    "model = DQN(\"MultiInputPolicy\", env, exploration_fraction=0.2, verbose=1)"
   ]
  },
  {
   "cell_type": "code",
   "execution_count": null,
   "metadata": {},
   "outputs": [],
   "source": [
    "env.is_training_mode = True\n",
    "model.learn(total_timesteps=200000, log_interval=100)"
   ]
  },
  {
   "cell_type": "code",
   "execution_count": null,
   "metadata": {},
   "outputs": [],
   "source": [
    "env.is_training_mode = False\n",
    "rendered, (earning, actual_price_change) = trade(env, model, stop_at_termination=False)\n",
    "print(earning, actual_price_change)\n",
    "show_image(rendered)"
   ]
  }
 ],
 "metadata": {
  "kernelspec": {
   "display_name": "Python 3",
   "language": "python",
   "name": "python3"
  },
  "language_info": {
   "codemirror_mode": {
    "name": "ipython",
    "version": 3
   },
   "file_extension": ".py",
   "mimetype": "text/x-python",
   "name": "python",
   "nbconvert_exporter": "python",
   "pygments_lexer": "ipython3",
   "version": "3.12.3"
  }
 },
 "nbformat": 4,
 "nbformat_minor": 2
}
